{
 "cells": [
  {
   "cell_type": "markdown",
   "id": "4c89ce0a",
   "metadata": {},
   "source": [
    "# 📊 Contact Lens Image Analysis with Fourier Transform\n",
    "This project demonstrates the use of **Fourier Transform (FFT)** to analyze contact lens images in a way that mimics real-world manufacturing quality checks."
   ]
  },
  {
   "cell_type": "code",
   "execution_count": null,
   "id": "8857368f",
   "metadata": {},
   "outputs": [],
   "source": [
    "import numpy as np\n",
    "import matplotlib.pyplot as plt\n",
    "from skimage import data, color\n",
    "from skimage.io import imread\n",
    "from skimage.color import rgb2gray\n",
    "from skimage.util import img_as_float\n",
    "from numpy.fft import fft2, fftshift\n",
    "import cv2"
   ]
  },
  {
   "cell_type": "markdown",
   "id": "97ba8aab",
   "metadata": {},
   "source": [
    "## 🖼️ Load Sample Image\n",
    "We’ll simulate a contact lens image using a circular grayscale image."
   ]
  },
  {
   "cell_type": "code",
   "execution_count": null,
   "id": "f1253bb8",
   "metadata": {},
   "outputs": [],
   "source": [
    "# Load a sample image and convert to grayscale\n",
    "image = color.rgb2gray(data.coins())\n",
    "plt.imshow(image, cmap='gray')\n",
    "plt.title('Simulated Contact Lens Image')\n",
    "plt.axis('off')\n",
    "plt.show()"
   ]
  },
  {
   "cell_type": "markdown",
   "id": "5ba52187",
   "metadata": {},
   "source": [
    "## ⚙️ Apply Fourier Transform\n",
    "We’ll compute the FFT and visualize the spectrum."
   ]
  },
  {
   "cell_type": "code",
   "execution_count": null,
   "id": "e948fcc4",
   "metadata": {},
   "outputs": [],
   "source": [
    "# Apply FFT\n",
    "fft_image = fftshift(fft2(image))\n",
    "magnitude_spectrum = np.log1p(np.abs(fft_image))\n",
    "\n",
    "# Display\n",
    "plt.imshow(magnitude_spectrum, cmap='gray')\n",
    "plt.title('FFT Magnitude Spectrum')\n",
    "plt.axis('off')\n",
    "plt.show()"
   ]
  },
  {
   "cell_type": "markdown",
   "id": "145ff9fd",
   "metadata": {},
   "source": [
    "## ✅ Conclusion\n",
    "- The FFT reveals frequency patterns in the image.\n",
    "- This type of transform is useful in identifying image irregularities or noise in medical device manufacturing.\n",
    "- This simulated approach can be adapted to real contact lens images for defect analysis."
   ]
  }
 ],
 "metadata": {},
 "nbformat": 4,
 "nbformat_minor": 5
}
